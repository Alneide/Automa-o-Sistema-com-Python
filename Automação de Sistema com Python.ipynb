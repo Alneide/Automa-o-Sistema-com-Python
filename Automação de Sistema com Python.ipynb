{
 "cells": [
  {
   "cell_type": "code",
   "execution_count": 11,
   "id": "f9de0c0a",
   "metadata": {},
   "outputs": [
    {
     "ename": "AttributeError",
     "evalue": "module 'pyautogui' has no attribute 'mousedown'",
     "output_type": "error",
     "traceback": [
      "\u001b[1;31m---------------------------------------------------------------------------\u001b[0m",
      "\u001b[1;31mAttributeError\u001b[0m                            Traceback (most recent call last)",
      "\u001b[1;32m~\\AppData\\Local\\Temp\\ipykernel_8652\\4081282080.py\u001b[0m in \u001b[0;36m<module>\u001b[1;34m\u001b[0m\n\u001b[0;32m     14\u001b[0m \u001b[0mpyautogui\u001b[0m\u001b[1;33m.\u001b[0m\u001b[0mhotkey\u001b[0m\u001b[1;33m(\u001b[0m\u001b[1;34m\"winleft\"\u001b[0m\u001b[1;33m,\u001b[0m \u001b[1;34m\"d\"\u001b[0m\u001b[1;33m)\u001b[0m\u001b[1;33m\u001b[0m\u001b[1;33m\u001b[0m\u001b[0m\n\u001b[0;32m     15\u001b[0m \u001b[0mpyautogui\u001b[0m\u001b[1;33m.\u001b[0m\u001b[0mmoveTo\u001b[0m\u001b[1;33m(\u001b[0m\u001b[1;36m657\u001b[0m\u001b[1;33m,\u001b[0m\u001b[1;36m202\u001b[0m\u001b[1;33m)\u001b[0m\u001b[1;33m\u001b[0m\u001b[1;33m\u001b[0m\u001b[0m\n\u001b[1;32m---> 16\u001b[1;33m \u001b[0mpyautogui\u001b[0m\u001b[1;33m.\u001b[0m\u001b[0mmousedown\u001b[0m\u001b[1;33m(\u001b[0m\u001b[1;33m)\u001b[0m\u001b[1;33m\u001b[0m\u001b[1;33m\u001b[0m\u001b[0m\n\u001b[0m\u001b[0;32m     17\u001b[0m \u001b[0mpyautogui\u001b[0m\u001b[1;33m.\u001b[0m\u001b[0mmoveTo\u001b[0m\u001b[1;33m(\u001b[0m\u001b[1;36m649\u001b[0m\u001b[1;33m,\u001b[0m\u001b[1;36m187\u001b[0m\u001b[1;33m)\u001b[0m\u001b[1;33m\u001b[0m\u001b[1;33m\u001b[0m\u001b[0m\n\u001b[0;32m     18\u001b[0m \u001b[0mpyautogui\u001b[0m\u001b[1;33m.\u001b[0m\u001b[0mhotkey\u001b[0m\u001b[1;33m(\u001b[0m\u001b[1;34m\"alt\"\u001b[0m\u001b[1;33m,\u001b[0m \u001b[1;34m\"tab\"\u001b[0m\u001b[1;33m)\u001b[0m\u001b[1;33m\u001b[0m\u001b[1;33m\u001b[0m\u001b[0m\n",
      "\u001b[1;31mAttributeError\u001b[0m: module 'pyautogui' has no attribute 'mousedown'"
     ]
    }
   ],
   "source": [
    "import pyautogui\n",
    "import time\n",
    "\n",
    "pyautogui.alert(\"O código vai começar. Não use seu computador enquanto o código estiver rodando\")\n",
    "pyautogui.Pause = 0.5\n",
    "\n",
    "pyautogui.press(\"win\")\n",
    "pyautogui.write(\"chrome\")\n",
    "pyautogui.press(\"enter\")\n",
    "time.sleep(1)\n",
    "pyautogui.write(\"https://drive.google.com/drive/my-drive\")\n",
    "pyautogui.press(\"enter\")\n",
    "\n",
    "pyautogui.hotkey(\"winleft\", \"d\")\n",
    "pyautogui.moveTo(657,202) \n",
    "pyautogui.mousedown()\n",
    "pyautogui.moveTo(649,187)\n",
    "pyautogui.hotkey(\"alt\", \"tab\") \n",
    "pyautogui.mouseup()\n",
    "                 "
   ]
  },
  {
   "cell_type": "code",
   "execution_count": 6,
   "id": "3418cc06",
   "metadata": {},
   "outputs": [
    {
     "data": {
      "text/plain": [
       "Point(x=657, y=201)"
      ]
     },
     "execution_count": 6,
     "metadata": {},
     "output_type": "execute_result"
    }
   ],
   "source": [
    "pyautogui.position()\n",
    "\n"
   ]
  },
  {
   "cell_type": "code",
   "execution_count": 8,
   "id": "a53b34f8",
   "metadata": {},
   "outputs": [
    {
     "data": {
      "text/plain": [
       "Point(x=649, y=187)"
      ]
     },
     "execution_count": 8,
     "metadata": {},
     "output_type": "execute_result"
    }
   ],
   "source": [
    "pyautogui.position()\n"
   ]
  },
  {
   "cell_type": "code",
   "execution_count": null,
   "id": "40abeb0a",
   "metadata": {},
   "outputs": [],
   "source": []
  }
 ],
 "metadata": {
  "kernelspec": {
   "display_name": "Python 3 (ipykernel)",
   "language": "python",
   "name": "python3"
  },
  "language_info": {
   "codemirror_mode": {
    "name": "ipython",
    "version": 3
   },
   "file_extension": ".py",
   "mimetype": "text/x-python",
   "name": "python",
   "nbconvert_exporter": "python",
   "pygments_lexer": "ipython3",
   "version": "3.9.13"
  }
 },
 "nbformat": 4,
 "nbformat_minor": 5
}
